{
 "cells": [
  {
   "cell_type": "code",
   "execution_count": 1,
   "id": "4d2601f7",
   "metadata": {},
   "outputs": [],
   "source": [
    "import pandas as pd\n",
    "import fsspec\n",
    "import pyarrow as pa\n",
    "import pyarrow.parquet as pq\n",
    "from datetime import datetime\n",
    "import os\n",
    "\n",
    "def tree(fs, path, prefix=\"\"):\n",
    "    \"\"\"Recursively list the contents of a directory in a tree-like format.\"\"\"\n",
    "    # print(path)\n",
    "    items = fs.ls(path, detail=True)\n",
    "    for i, item in enumerate(items):\n",
    "        is_last = i == (len(items) - 1)  # Check if this is the last item\n",
    "        if item['type'] == 'directory':\n",
    "            # Print the directory name\n",
    "            print(f\"{prefix}{'└── ' if is_last else '├── '}{item['name'].split('/')[-1]}\")\n",
    "            # Recursively list this directory's contents\n",
    "            new_prefix = prefix + ('    ' if is_last else '│   ')\n",
    "            tree(fs, item['name'], new_prefix)\n",
    "        else:\n",
    "            # Print the file name\n",
    "            print(f\"{prefix}{'└── ' if is_last else '├── '}{item['name'].split('/')[-1]}\")\n"
   ]
  },
  {
   "cell_type": "markdown",
   "id": "4b6d8a25",
   "metadata": {},
   "source": [
    "<span style=\"font-size:2em; color:red;\">5.1 ชื่อไฟล์</span>\n"
   ]
  },
  {
   "cell_type": "code",
   "execution_count": 2,
   "id": "8fadf060",
   "metadata": {},
   "outputs": [
    {
     "name": "stdout",
     "output_type": "stream",
     "text": [
      "├── Sanitary Napkins 2\n",
      "│   └── date=2023-12-16\n",
      "│       └── 173ad84af7b440df90cd3fd1c6341810-0.parquet\n",
      "├── Sanitary Napkins\n",
      "│   ├── date=2023-12-15\n",
      "│   │   └── fef48a66aedf4957a766291da9bff994-0.parquet\n",
      "│   └── date=2023-12-16\n",
      "│       └── bebf4c49f4fc434d8775b20ad648827a-0.parquet\n",
      "├── \n",
      "├── Sanitary Napkins.parquet\n",
      "└── readme.md\n"
     ]
    }
   ],
   "source": [
    "gcs_token_path = \"C:\\\\Users\\\\User\\\\Downloads\\\\teacher-dsi310-2023.json\"\n",
    "catalog_path = 'gcs://dsi310_bucket/group10/'\n",
    "fs=fsspec.filesystem('gcs', token=gcs_token_path)\n",
    "with fs.open(catalog_path+'readme.md','wb') as f:\n",
    "    \n",
    "    f.write(b'# Hello')\n",
    "tree(fs,catalog_path)"
   ]
  },
  {
   "cell_type": "code",
   "execution_count": 3,
   "id": "6ad83c2c",
   "metadata": {},
   "outputs": [],
   "source": [
    "xlsx_file_path = \"cleaning data.xlsx\"\n",
    "\n",
    "# ใช้ pandas อ่านข้อมูลจาก Excel เป็น DataFrame\n",
    "df_excel = pd.read_excel(xlsx_file_path)\n",
    "\n",
    "# ใช้ PyArrow แปลง DataFrame เป็น Arrow Table\n",
    "table_arrow = pa.Table.from_pandas(df_excel)"
   ]
  },
  {
   "cell_type": "code",
   "execution_count": 4,
   "id": "b4669982",
   "metadata": {},
   "outputs": [
    {
     "name": "stdout",
     "output_type": "stream",
     "text": [
      "       brand   price    sale  total_sale       location   usage  length type  \\\n",
      "0       Sofy   10.75    74.0       795.5        Bangkok   night    29.0  pad   \n",
      "1       Sofy   33.00  3269.0    107877.0        Bangkok     day    22.0  pad   \n",
      "2       Sofy   11.00   748.0      8228.0        Bangkok   night    29.0  pad   \n",
      "3       Sofy   59.00   819.0     48321.0        Bangkok   night    29.0  pad   \n",
      "4       Sofy   39.00   426.0     16614.0        Bangkok  normal    22.0  pad   \n",
      "...      ...     ...     ...         ...            ...     ...     ...  ...   \n",
      "5774  Sanita  109.00   180.0     19620.0  กรุงเทพมหานคร   night    29.0  pad   \n",
      "5775  Sanita  960.00   129.0    123840.0  กรุงเทพมหานคร   night    29.0  pad   \n",
      "5776  Sanita  129.00    91.0     11739.0  กรุงเทพมหานคร  normal    24.5  pad   \n",
      "5777  Sanita  119.00    62.0      7378.0  กรุงเทพมหานคร  normal    24.5  pad   \n",
      "5778  Sanita  129.00   164.0     21156.0  กรุงเทพมหานคร  normal    24.5  pad   \n",
      "\n",
      "     wing   size        date  \n",
      "0      no  thick  2023-12-16  \n",
      "1     yes   thin  2023-12-16  \n",
      "2      no  thick  2023-12-16  \n",
      "3     yes   thin  2023-12-16  \n",
      "4      no   thin  2023-12-16  \n",
      "...   ...    ...         ...  \n",
      "5774  yes  thick  2023-12-16  \n",
      "5775  yes  thick  2023-12-16  \n",
      "5776  yes  thick  2023-12-16  \n",
      "5777  yes   thin  2023-12-16  \n",
      "5778  yes  thick  2023-12-16  \n",
      "\n",
      "[5779 rows x 11 columns]\n"
     ]
    }
   ],
   "source": [
    "# กำหนดที่อยู่ของไฟล์ Excel\n",
    "xlsx_file_path = \"cleaning data.xlsx\"\n",
    "\n",
    "# ใช้ pandas อ่านข้อมูลจาก Excel เป็น DataFrame\n",
    "df_xlsx = pd.read_excel(xlsx_file_path)\n",
    "\n",
    "# แปลง 'date' เป็นวันที่\n",
    "df_xlsx['date'] = pd.to_datetime('2023-12-16').date()\n",
    "\n",
    "# แสดงผล DataFrame\n",
    "print(df_xlsx)\n"
   ]
  },
  {
   "cell_type": "code",
   "execution_count": 5,
   "id": "7758160c",
   "metadata": {},
   "outputs": [
    {
     "name": "stdout",
     "output_type": "stream",
     "text": [
      "<class 'pandas.core.frame.DataFrame'>\n",
      "RangeIndex: 5779 entries, 0 to 5778\n",
      "Data columns (total 11 columns):\n",
      " #   Column      Non-Null Count  Dtype  \n",
      "---  ------      --------------  -----  \n",
      " 0   brand       5779 non-null   object \n",
      " 1   price       5779 non-null   float64\n",
      " 2   sale        5634 non-null   float64\n",
      " 3   total_sale  5779 non-null   float64\n",
      " 4   location    5779 non-null   object \n",
      " 5   usage       5779 non-null   object \n",
      " 6   length      5498 non-null   float64\n",
      " 7   type        5779 non-null   object \n",
      " 8   wing        5779 non-null   object \n",
      " 9   size        5532 non-null   object \n",
      " 10  date        5779 non-null   object \n",
      "dtypes: float64(4), object(7)\n",
      "memory usage: 496.8+ KB\n"
     ]
    }
   ],
   "source": [
    "# แสดงข้อมูลทั่วไปเกี่ยวกับ DataFrame\n",
    "df_xlsx.info()\n"
   ]
  },
  {
   "cell_type": "code",
   "execution_count": 6,
   "id": "213a4d21",
   "metadata": {},
   "outputs": [
    {
     "data": {
      "text/plain": [
       "brand: string\n",
       "price: double\n",
       "sale: double\n",
       "total_sale: double\n",
       "location: string\n",
       "usage: string\n",
       "length: double\n",
       "type: string\n",
       "wing: string\n",
       "size: string\n",
       "date: date32[day]\n",
       "-- schema metadata --\n",
       "metadata: '{'data_type': 2, 'title': 'Sales of Sanitary Napkins on Lazada' + 867\n",
       "dictionary: '{'brand': 'ชื่อยี่ห้อผ้าอนา�' + 421"
      ]
     },
     "execution_count": 6,
     "metadata": {},
     "output_type": "execute_result"
    }
   ],
   "source": [
    "# Example DataFrame\n",
    "df = df_xlsx\n",
    "\n",
    "metadata = {\n",
    "    'data_type':2,\n",
    "    'title': 'Sales of Sanitary Napkins on Lazada',\n",
    "    'owner_org': 'บริษัท ลาซาด้า จำกัด',\n",
    "    'maintainer': 'กลุ่มอาลีบาบา',\n",
    "    'maintainer_email': 'sevice@lazada.co.th',\n",
    "    'tag_string': 'brand, price, sale, total_sale, location, usage, length, type, wing, size',\n",
    "    'note': 'ยอดขายจากการจำหน่ายผ้าอนามัย,จำแนกตามรายชื่อยี่ห้อ,รูปแบบของผ้าอนามัย',\n",
    "    'objective': 99,\n",
    "    'update_frequency_unit': 'R',\n",
    "    'update_frequency_interval': 0,\n",
    "    'geo_coverage': '04',\n",
    "    'data_source': 'ข้อมูลการขายสินค้าและยอดขายในการให้บริการมีที่มาจากบริษัท ลาซาด้า จำกัด',\n",
    "    'data_format': 10,\n",
    "    'data_category': 1,\n",
    "    'license_id': 98\n",
    "}\n",
    "\n",
    "data_dictionary = {\n",
    "    'brand': 'ชื่อยี่ห้อผ้าอนามัย',\n",
    "    'price': 'ราคา',\n",
    "    'sale': 'จำนวนที่ขาย',\n",
    "    'total_sale':'ยอดขายรวม',\n",
    "    'location': 'จังหวัด',\n",
    "    'usage':'การใช้งาน',\n",
    "    'length':'ความยาว',\n",
    "    'type':'รูปแบบ',\n",
    "    'wing':'มีปีก,ไม่มีปีก',\n",
    "    'size':'ขนาด',\n",
    "    'date': 'วันที่ได้การนำข้อมูลมา'\n",
    "}\n",
    "\n",
    "# Convert DataFrame to PyArrow Table with metadata\n",
    "table = pa.Table.from_pandas(df)\n",
    "table = table.replace_schema_metadata({'metadata': str(metadata), 'dictionary': str(data_dictionary)})\n",
    "\n",
    "table.schema\n",
    "table.schema"
   ]
  },
  {
   "cell_type": "markdown",
   "id": "ec8ef4f9",
   "metadata": {},
   "source": [
    "<span style=\"font-size:2em; color:red;\">5.2 เมทาดาตา 14 field</span>"
   ]
  },
  {
   "cell_type": "code",
   "execution_count": 7,
   "id": "b9196f5f",
   "metadata": {},
   "outputs": [
    {
     "name": "stdout",
     "output_type": "stream",
     "text": [
      "Metadata: {'data_type': 2, 'title': 'Sales of Sanitary Napkins on Lazada', 'owner_org': 'บริษัท ลาซาด้า จำกัด', 'maintainer': 'กลุ่มอาลีบาบา', 'maintainer_email': 'sevice@lazada.co.th', 'tag_string': 'brand, price, sale, total_sale, location, usage, length, type, wing, size', 'note': 'ยอดขายจากการจำหน่ายผ้าอนามัย,จำแนกตามรายชื่อยี่ห้อ,รูปแบบของผ้าอนามัย', 'objective': 99, 'update_frequency_unit': 'R', 'update_frequency_interval': 0, 'geo_coverage': '04', 'data_source': 'ข้อมูลการขายสินค้าและยอดขายในการให้บริการมีที่มาจากบริษัท ลาซาด้า จำกัด', 'data_format': 10, 'data_category': 1, 'license_id': 98}\n",
      "Data Dictionary: {'brand': 'ชื่อยี่ห้อผ้าอนามัย', 'price': 'ราคา', 'sale': 'จำนวนที่ขาย', 'total_sale': 'ยอดขายรวม', 'location': 'จังหวัด', 'usage': 'การใช้งาน', 'length': 'ความยาว', 'type': 'รูปแบบ', 'wing': 'มีปีก,ไม่มีปีก', 'size': 'ขนาด', 'date': 'วันที่ได้การนำข้อมูลมา'}\n"
     ]
    }
   ],
   "source": [
    "# Extracting metadata and data dictionary\n",
    "metadata = eval(table.schema.metadata[b'metadata']) if b'metadata' in table.schema.metadata else None\n",
    "data_dictionary = eval(table.schema.metadata[b'dictionary']) if b'dictionary' in table.schema.metadata else None\n",
    "\n",
    "# Display the DataFrame, Metadata, and Data Dictionary\n",
    "print(\"Metadata:\", metadata)\n",
    "print(\"Data Dictionary:\", data_dictionary)"
   ]
  },
  {
   "cell_type": "markdown",
   "id": "eb7ee457",
   "metadata": {},
   "source": [
    "<span style=\"font-size:2em; color:red;\">5.3 เวลาในการส่งข้อมูลไปยัง GCS</span>"
   ]
  },
  {
   "cell_type": "code",
   "execution_count": 8,
   "id": "737a6db2",
   "metadata": {},
   "outputs": [
    {
     "name": "stdout",
     "output_type": "stream",
     "text": [
      "├── Sanitary Napkins 2\n",
      "│   └── date=2023-12-16\n",
      "│       └── 173ad84af7b440df90cd3fd1c6341810-0.parquet\n",
      "├── Sanitary Napkins\n",
      "│   ├── date=2023-12-15\n",
      "│   │   └── fef48a66aedf4957a766291da9bff994-0.parquet\n",
      "│   └── date=2023-12-16\n",
      "│       └── bebf4c49f4fc434d8775b20ad648827a-0.parquet\n",
      "├── \n",
      "├── Sanitary Napkins.parquet\n",
      "└── readme.md\n"
     ]
    }
   ],
   "source": [
    "# Write to GCS\n",
    "gcs_path = 'gcs://dsi310_bucket/group10/'  # Replace with your bucket path\n",
    "with fs.open(path=catalog_path+'Sanitary Napkins.parquet',mode='wb') as f:  # Replace with your GCS token\n",
    "    pq.write_table(table, f)\n",
    "\n",
    "tree(fs,catalog_path)"
   ]
  },
  {
   "cell_type": "code",
   "execution_count": 9,
   "id": "5d8dd057",
   "metadata": {},
   "outputs": [
    {
     "data": {
      "text/html": [
       "<div>\n",
       "<style scoped>\n",
       "    .dataframe tbody tr th:only-of-type {\n",
       "        vertical-align: middle;\n",
       "    }\n",
       "\n",
       "    .dataframe tbody tr th {\n",
       "        vertical-align: top;\n",
       "    }\n",
       "\n",
       "    .dataframe thead th {\n",
       "        text-align: right;\n",
       "    }\n",
       "</style>\n",
       "<table border=\"1\" class=\"dataframe\">\n",
       "  <thead>\n",
       "    <tr style=\"text-align: right;\">\n",
       "      <th></th>\n",
       "      <th>brand</th>\n",
       "      <th>price</th>\n",
       "      <th>sale</th>\n",
       "      <th>total_sale</th>\n",
       "      <th>location</th>\n",
       "      <th>usage</th>\n",
       "      <th>length</th>\n",
       "      <th>type</th>\n",
       "      <th>wing</th>\n",
       "      <th>size</th>\n",
       "      <th>date</th>\n",
       "    </tr>\n",
       "  </thead>\n",
       "  <tbody>\n",
       "    <tr>\n",
       "      <th>0</th>\n",
       "      <td>Sofy</td>\n",
       "      <td>10.75</td>\n",
       "      <td>74.0</td>\n",
       "      <td>795.5</td>\n",
       "      <td>Bangkok</td>\n",
       "      <td>night</td>\n",
       "      <td>29.0</td>\n",
       "      <td>pad</td>\n",
       "      <td>no</td>\n",
       "      <td>thick</td>\n",
       "      <td>2023-12-16</td>\n",
       "    </tr>\n",
       "    <tr>\n",
       "      <th>1</th>\n",
       "      <td>Sofy</td>\n",
       "      <td>33.00</td>\n",
       "      <td>3269.0</td>\n",
       "      <td>107877.0</td>\n",
       "      <td>Bangkok</td>\n",
       "      <td>day</td>\n",
       "      <td>22.0</td>\n",
       "      <td>pad</td>\n",
       "      <td>yes</td>\n",
       "      <td>thin</td>\n",
       "      <td>2023-12-16</td>\n",
       "    </tr>\n",
       "    <tr>\n",
       "      <th>2</th>\n",
       "      <td>Sofy</td>\n",
       "      <td>11.00</td>\n",
       "      <td>748.0</td>\n",
       "      <td>8228.0</td>\n",
       "      <td>Bangkok</td>\n",
       "      <td>night</td>\n",
       "      <td>29.0</td>\n",
       "      <td>pad</td>\n",
       "      <td>no</td>\n",
       "      <td>thick</td>\n",
       "      <td>2023-12-16</td>\n",
       "    </tr>\n",
       "    <tr>\n",
       "      <th>3</th>\n",
       "      <td>Sofy</td>\n",
       "      <td>59.00</td>\n",
       "      <td>819.0</td>\n",
       "      <td>48321.0</td>\n",
       "      <td>Bangkok</td>\n",
       "      <td>night</td>\n",
       "      <td>29.0</td>\n",
       "      <td>pad</td>\n",
       "      <td>yes</td>\n",
       "      <td>thin</td>\n",
       "      <td>2023-12-16</td>\n",
       "    </tr>\n",
       "    <tr>\n",
       "      <th>4</th>\n",
       "      <td>Sofy</td>\n",
       "      <td>39.00</td>\n",
       "      <td>426.0</td>\n",
       "      <td>16614.0</td>\n",
       "      <td>Bangkok</td>\n",
       "      <td>normal</td>\n",
       "      <td>22.0</td>\n",
       "      <td>pad</td>\n",
       "      <td>no</td>\n",
       "      <td>thin</td>\n",
       "      <td>2023-12-16</td>\n",
       "    </tr>\n",
       "    <tr>\n",
       "      <th>...</th>\n",
       "      <td>...</td>\n",
       "      <td>...</td>\n",
       "      <td>...</td>\n",
       "      <td>...</td>\n",
       "      <td>...</td>\n",
       "      <td>...</td>\n",
       "      <td>...</td>\n",
       "      <td>...</td>\n",
       "      <td>...</td>\n",
       "      <td>...</td>\n",
       "      <td>...</td>\n",
       "    </tr>\n",
       "    <tr>\n",
       "      <th>5774</th>\n",
       "      <td>Sanita</td>\n",
       "      <td>109.00</td>\n",
       "      <td>180.0</td>\n",
       "      <td>19620.0</td>\n",
       "      <td>กรุงเทพมหานคร</td>\n",
       "      <td>night</td>\n",
       "      <td>29.0</td>\n",
       "      <td>pad</td>\n",
       "      <td>yes</td>\n",
       "      <td>thick</td>\n",
       "      <td>2023-12-16</td>\n",
       "    </tr>\n",
       "    <tr>\n",
       "      <th>5775</th>\n",
       "      <td>Sanita</td>\n",
       "      <td>960.00</td>\n",
       "      <td>129.0</td>\n",
       "      <td>123840.0</td>\n",
       "      <td>กรุงเทพมหานคร</td>\n",
       "      <td>night</td>\n",
       "      <td>29.0</td>\n",
       "      <td>pad</td>\n",
       "      <td>yes</td>\n",
       "      <td>thick</td>\n",
       "      <td>2023-12-16</td>\n",
       "    </tr>\n",
       "    <tr>\n",
       "      <th>5776</th>\n",
       "      <td>Sanita</td>\n",
       "      <td>129.00</td>\n",
       "      <td>91.0</td>\n",
       "      <td>11739.0</td>\n",
       "      <td>กรุงเทพมหานคร</td>\n",
       "      <td>normal</td>\n",
       "      <td>24.5</td>\n",
       "      <td>pad</td>\n",
       "      <td>yes</td>\n",
       "      <td>thick</td>\n",
       "      <td>2023-12-16</td>\n",
       "    </tr>\n",
       "    <tr>\n",
       "      <th>5777</th>\n",
       "      <td>Sanita</td>\n",
       "      <td>119.00</td>\n",
       "      <td>62.0</td>\n",
       "      <td>7378.0</td>\n",
       "      <td>กรุงเทพมหานคร</td>\n",
       "      <td>normal</td>\n",
       "      <td>24.5</td>\n",
       "      <td>pad</td>\n",
       "      <td>yes</td>\n",
       "      <td>thin</td>\n",
       "      <td>2023-12-16</td>\n",
       "    </tr>\n",
       "    <tr>\n",
       "      <th>5778</th>\n",
       "      <td>Sanita</td>\n",
       "      <td>129.00</td>\n",
       "      <td>164.0</td>\n",
       "      <td>21156.0</td>\n",
       "      <td>กรุงเทพมหานคร</td>\n",
       "      <td>normal</td>\n",
       "      <td>24.5</td>\n",
       "      <td>pad</td>\n",
       "      <td>yes</td>\n",
       "      <td>thick</td>\n",
       "      <td>2023-12-16</td>\n",
       "    </tr>\n",
       "  </tbody>\n",
       "</table>\n",
       "<p>5779 rows × 11 columns</p>\n",
       "</div>"
      ],
      "text/plain": [
       "       brand   price    sale  total_sale       location   usage  length type  \\\n",
       "0       Sofy   10.75    74.0       795.5        Bangkok   night    29.0  pad   \n",
       "1       Sofy   33.00  3269.0    107877.0        Bangkok     day    22.0  pad   \n",
       "2       Sofy   11.00   748.0      8228.0        Bangkok   night    29.0  pad   \n",
       "3       Sofy   59.00   819.0     48321.0        Bangkok   night    29.0  pad   \n",
       "4       Sofy   39.00   426.0     16614.0        Bangkok  normal    22.0  pad   \n",
       "...      ...     ...     ...         ...            ...     ...     ...  ...   \n",
       "5774  Sanita  109.00   180.0     19620.0  กรุงเทพมหานคร   night    29.0  pad   \n",
       "5775  Sanita  960.00   129.0    123840.0  กรุงเทพมหานคร   night    29.0  pad   \n",
       "5776  Sanita  129.00    91.0     11739.0  กรุงเทพมหานคร  normal    24.5  pad   \n",
       "5777  Sanita  119.00    62.0      7378.0  กรุงเทพมหานคร  normal    24.5  pad   \n",
       "5778  Sanita  129.00   164.0     21156.0  กรุงเทพมหานคร  normal    24.5  pad   \n",
       "\n",
       "     wing   size        date  \n",
       "0      no  thick  2023-12-16  \n",
       "1     yes   thin  2023-12-16  \n",
       "2      no  thick  2023-12-16  \n",
       "3     yes   thin  2023-12-16  \n",
       "4      no   thin  2023-12-16  \n",
       "...   ...    ...         ...  \n",
       "5774  yes  thick  2023-12-16  \n",
       "5775  yes  thick  2023-12-16  \n",
       "5776  yes  thick  2023-12-16  \n",
       "5777  yes   thin  2023-12-16  \n",
       "5778  yes  thick  2023-12-16  \n",
       "\n",
       "[5779 rows x 11 columns]"
      ]
     },
     "execution_count": 9,
     "metadata": {},
     "output_type": "execute_result"
    }
   ],
   "source": [
    "# Example DataFrame\n",
    "df = df_xlsx\n",
    "\n",
    "metadata = {\n",
    "    'data_type':2,\n",
    "    'title': 'Sales of Sanitary Napkins on Lazada',\n",
    "    'owner_org': 'บริษัท ลาซาด้า จำกัด',\n",
    "    'maintainer': 'กลุ่มอาลีบาบา',\n",
    "    'maintainer_email': 'sevice@lazada.co.th',\n",
    "    'tag_string': 'brand, price, sale, total_sale, location, usage, length, type, wing, size',\n",
    "    'note': 'ยอดขายจากการจำหน่ายผ้าอนามัย,จำแนกตามรายชื่อยี่ห้อ,รูปแบบของผ้าอนามัย',\n",
    "    'objective': 99,\n",
    "    'update_frequency_unit': 'R',\n",
    "    'update_frequency_interval': 0,\n",
    "    'geo_coverage': '04',\n",
    "    'data_source': 'ข้อมูลการขายสินค้าและยอดขายในการให้บริการมีที่มาจากบริษัท ลาซาด้า จำกัด',\n",
    "    'data_format': 10,\n",
    "    'data_category': 1,\n",
    "    'license_id': 98\n",
    "}\n",
    "\n",
    "data_dictionary = {\n",
    "    'brand': 'ชื่อยี่ห้อผ้าอนามัย',\n",
    "    'price': 'ราคา',\n",
    "    'sale': 'จำนวนที่ขาย',\n",
    "    'total_sale':'ยอดขายรวม',\n",
    "    'location': 'จังหวัด',\n",
    "    'usage':'การใช้งาน',\n",
    "    'length':'ความยาว',\n",
    "    'type':'รูปแบบ',\n",
    "    'wing':'มีปีก,ไม่มีปีก',\n",
    "    'size':'ขนาด',\n",
    "    'date': 'วันที่ได้การนำข้อมูลมา'\n",
    "}\n",
    "\n",
    "# Convert DataFrame to PyArrow Table with metadata\n",
    "table = pa.Table.from_pandas(df)\n",
    "table = table.replace_schema_metadata({'metadata': str(metadata), 'dictionary': str(data_dictionary)})\n",
    "\n",
    "table.schema\n",
    "table.schema\n",
    "df"
   ]
  },
  {
   "cell_type": "code",
   "execution_count": 10,
   "id": "3ea6e382",
   "metadata": {},
   "outputs": [
    {
     "data": {
      "text/plain": [
       "'gcs://dsi310_bucket/group10/Sanitary Napkins 2'"
      ]
     },
     "execution_count": 10,
     "metadata": {},
     "output_type": "execute_result"
    }
   ],
   "source": [
    "# Define GCS path and write to GCS\n",
    "\n",
    "# No need to open a file with fsspec, use the path directly\n",
    "dataset_name ='Sanitary Napkins 2'\n",
    "path = catalog_path+dataset_name\n",
    "path"
   ]
  },
  {
   "cell_type": "code",
   "execution_count": 11,
   "id": "81896b3b",
   "metadata": {},
   "outputs": [
    {
     "name": "stdout",
     "output_type": "stream",
     "text": [
      "├── Sanitary Napkins 2\n",
      "│   └── date=2023-12-16\n",
      "│       ├── 173ad84af7b440df90cd3fd1c6341810-0.parquet\n",
      "│       └── ecacd2104e5e4c718ab3404cb55b3b12-0.parquet\n",
      "├── Sanitary Napkins\n",
      "│   ├── date=2023-12-15\n",
      "│   │   └── fef48a66aedf4957a766291da9bff994-0.parquet\n",
      "│   └── date=2023-12-16\n",
      "│       └── bebf4c49f4fc434d8775b20ad648827a-0.parquet\n",
      "├── \n",
      "├── Sanitary Napkins.parquet\n",
      "└── readme.md\n"
     ]
    }
   ],
   "source": [
    "pq.write_to_dataset(table, root_path=path, partition_cols=['date'], filesystem=fs,)\n",
    "\n",
    "tree(fs,catalog_path)"
   ]
  },
  {
   "cell_type": "code",
   "execution_count": 12,
   "id": "0793494d",
   "metadata": {},
   "outputs": [
    {
     "data": {
      "text/plain": [
       "['gs://dsi310_bucket/group10/Sanitary Napkins 2/date=2023-12-16/173ad84af7b440df90cd3fd1c6341810-0.parquet',\n",
       " 'gs://dsi310_bucket/group10/Sanitary Napkins 2/date=2023-12-16/ecacd2104e5e4c718ab3404cb55b3b12-0.parquet']"
      ]
     },
     "execution_count": 12,
     "metadata": {},
     "output_type": "execute_result"
    }
   ],
   "source": [
    "my_path=catalog_path+'Sanitary Napkins 2'\n",
    "files = [\"gs://\"  + path for path in fs.glob(my_path + \"/*/*\")]\n",
    "files"
   ]
  },
  {
   "cell_type": "code",
   "execution_count": 13,
   "id": "99472914",
   "metadata": {},
   "outputs": [
    {
     "data": {
      "text/plain": [
       "pyarrow.Table\n",
       "brand: string\n",
       "price: double\n",
       "sale: double\n",
       "total_sale: double\n",
       "location: string\n",
       "usage: string\n",
       "length: double\n",
       "type: string\n",
       "wing: string\n",
       "size: string\n",
       "date: dictionary<values=string, indices=int32, ordered=0>\n",
       "----\n",
       "brand: [[\"Sofy\",\"Sofy\",\"Sofy\",\"Sofy\",\"Sofy\",...,\"Sanita\",\"Sanita\",\"Sanita\",\"Sanita\",\"Sanita\"],[\"Sofy\",\"Sofy\",\"Sofy\",\"Sofy\",\"Sofy\",...,\"Sanita\",\"Sanita\",\"Sanita\",\"Sanita\",\"Sanita\"]]\n",
       "price: [[10.75,33,11,59,39,...,109,960,129,119,129],[10.75,33,11,59,39,...,109,960,129,119,129]]\n",
       "sale: [[74,3269,748,819,426,...,180,129,91,62,164],[74,3269,748,819,426,...,180,129,91,62,164]]\n",
       "total_sale: [[795.5,107877,8228,48321,16614,...,19620,123840,11739,7378,21156],[795.5,107877,8228,48321,16614,...,19620,123840,11739,7378,21156]]\n",
       "location: [[\"Bangkok\",\"Bangkok\",\"Bangkok\",\"Bangkok\",\"Bangkok\",...,\"กรุงเทพมหานคร\",\"กรุงเทพมหานคร\",\"กรุงเทพมหานคร\",\"กรุงเทพมหานคร\",\"กรุงเทพมหานคร\"],[\"Bangkok\",\"Bangkok\",\"Bangkok\",\"Bangkok\",\"Bangkok\",...,\"กรุงเทพมหานคร\",\"กรุงเทพมหานคร\",\"กรุงเทพมหานคร\",\"กรุงเทพมหานคร\",\"กรุงเทพมหานคร\"]]\n",
       "usage: [[\"night\",\"day\",\"night\",\"night\",\"normal\",...,\"night\",\"night\",\"normal\",\"normal\",\"normal\"],[\"night\",\"day\",\"night\",\"night\",\"normal\",...,\"night\",\"night\",\"normal\",\"normal\",\"normal\"]]\n",
       "length: [[29,22,29,29,22,...,29,29,24.5,24.5,24.5],[29,22,29,29,22,...,29,29,24.5,24.5,24.5]]\n",
       "type: [[\"pad\",\"pad\",\"pad\",\"pad\",\"pad\",...,\"pad\",\"pad\",\"pad\",\"pad\",\"pad\"],[\"pad\",\"pad\",\"pad\",\"pad\",\"pad\",...,\"pad\",\"pad\",\"pad\",\"pad\",\"pad\"]]\n",
       "wing: [[\"no\",\"yes\",\"no\",\"yes\",\"no\",...,\"yes\",\"yes\",\"yes\",\"yes\",\"yes\"],[\"no\",\"yes\",\"no\",\"yes\",\"no\",...,\"yes\",\"yes\",\"yes\",\"yes\",\"yes\"]]\n",
       "size: [[\"thick\",\"thin\",\"thick\",\"thin\",\"thin\",...,\"thick\",\"thick\",\"thick\",\"thin\",\"thick\"],[\"thick\",\"thin\",\"thick\",\"thin\",\"thin\",...,\"thick\",\"thick\",\"thick\",\"thin\",\"thick\"]]\n",
       "..."
      ]
     },
     "execution_count": 13,
     "metadata": {},
     "output_type": "execute_result"
    }
   ],
   "source": [
    "import pyarrow as pa\n",
    "pq.read_table(files,filesystem=fs)"
   ]
  },
  {
   "cell_type": "code",
   "execution_count": 14,
   "id": "55954cee",
   "metadata": {},
   "outputs": [
    {
     "data": {
      "text/plain": [
       "brand: string\n",
       "price: double\n",
       "sale: double\n",
       "total_sale: double\n",
       "location: string\n",
       "usage: string\n",
       "length: double\n",
       "type: string\n",
       "wing: string\n",
       "size: string\n",
       "date: dictionary<values=string, indices=int32, ordered=0>\n",
       "-- schema metadata --\n",
       "metadata: '{'data_type': 2, 'title': 'Sales of Sanitary Napkins on Lazada' + 867\n",
       "dictionary: '{'brand': 'ชื่อยี่ห้อผ้าอนา�' + 421"
      ]
     },
     "execution_count": 14,
     "metadata": {},
     "output_type": "execute_result"
    }
   ],
   "source": [
    "import pyarrow.dataset as ds\n",
    "\n",
    "# dataset = ds.dataset(files, format=\"parquet\", filesystem=fs)\n",
    "# table = dataset.to_table()\n",
    "\n",
    "dataset = pq.ParquetDataset(path_or_paths=files, filesystem=fs)\n",
    "table = dataset.read()\n",
    "\n",
    "table.schema"
   ]
  },
  {
   "cell_type": "code",
   "execution_count": 15,
   "id": "7086127b",
   "metadata": {},
   "outputs": [
    {
     "name": "stdout",
     "output_type": "stream",
     "text": [
      "Metadata: {'data_type': 2, 'title': 'Sales of Sanitary Napkins on Lazada', 'owner_org': 'บริษัท ลาซาด้า จำกัด', 'maintainer': 'กลุ่มอาลีบาบา', 'maintainer_email': 'sevice@lazada.co.th', 'tag_string': 'brand, price, sale, total_sale, location, usage, length, type, wing, size', 'note': 'ยอดขายจากการจำหน่ายผ้าอนามัย,จำแนกตามรายชื่อยี่ห้อ,รูปแบบของผ้าอนามัย', 'objective': 99, 'update_frequency_unit': 'R', 'update_frequency_interval': 0, 'geo_coverage': '04', 'data_source': 'ข้อมูลการขายสินค้าและยอดขายในการให้บริการมีที่มาจากบริษัท ลาซาด้า จำกัด', 'data_format': 10, 'data_category': 1, 'license_id': 98}\n",
      "Data Dictionary: {'brand': 'ชื่อยี่ห้อผ้าอนามัย', 'price': 'ราคา', 'sale': 'จำนวนที่ขาย', 'total_sale': 'ยอดขายรวม', 'location': 'จังหวัด', 'usage': 'การใช้งาน', 'length': 'ความยาว', 'type': 'รูปแบบ', 'wing': 'มีปีก,ไม่มีปีก', 'size': 'ขนาด', 'date': 'วันที่ได้การนำข้อมูลมา'}\n"
     ]
    }
   ],
   "source": [
    "# Extracting metadata and data dictionary\n",
    "metadata = eval(table.schema.metadata[b'metadata']) if b'metadata' in table.schema.metadata else None\n",
    "data_dictionary = eval(table.schema.metadata[b'dictionary']) if b'dictionary' in table.schema.metadata else None\n",
    "\n",
    "# Display the DataFrame, Metadata, and Data Dictionary\n",
    "print(\"Metadata:\", metadata)\n",
    "print(\"Data Dictionary:\", data_dictionary)"
   ]
  },
  {
   "cell_type": "code",
   "execution_count": 16,
   "id": "c9558eea",
   "metadata": {},
   "outputs": [
    {
     "name": "stdout",
     "output_type": "stream",
     "text": [
      "  brand  price    sale  total_sale location   usage  length type wing   size  \\\n",
      "0  Sofy  10.75    74.0       795.5  Bangkok   night    29.0  pad   no  thick   \n",
      "1  Sofy  33.00  3269.0    107877.0  Bangkok     day    22.0  pad  yes   thin   \n",
      "2  Sofy  11.00   748.0      8228.0  Bangkok   night    29.0  pad   no  thick   \n",
      "3  Sofy  59.00   819.0     48321.0  Bangkok   night    29.0  pad  yes   thin   \n",
      "4  Sofy  39.00   426.0     16614.0  Bangkok  normal    22.0  pad   no   thin   \n",
      "\n",
      "         date  \n",
      "0  2023-12-16  \n",
      "1  2023-12-16  \n",
      "2  2023-12-16  \n",
      "3  2023-12-16  \n",
      "4  2023-12-16  \n"
     ]
    }
   ],
   "source": [
    "# Convert to Pandas DataFrame\n",
    "df = table.to_pandas()\n",
    "\n",
    "# Display the DataFrame\n",
    "print(df.head())"
   ]
  },
  {
   "cell_type": "code",
   "execution_count": null,
   "id": "5edd01dc",
   "metadata": {},
   "outputs": [],
   "source": []
  }
 ],
 "metadata": {
  "kernelspec": {
   "display_name": "Python 3 (ipykernel)",
   "language": "python",
   "name": "python3"
  },
  "language_info": {
   "codemirror_mode": {
    "name": "ipython",
    "version": 3
   },
   "file_extension": ".py",
   "mimetype": "text/x-python",
   "name": "python",
   "nbconvert_exporter": "python",
   "pygments_lexer": "ipython3",
   "version": "3.11.4"
  }
 },
 "nbformat": 4,
 "nbformat_minor": 5
}
